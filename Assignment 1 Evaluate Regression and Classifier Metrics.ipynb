{
 "cells": [
  {
   "cell_type": "code",
   "execution_count": 1,
   "id": "43861b90",
   "metadata": {},
   "outputs": [
    {
     "data": {
      "text/html": [
       "<div>\n",
       "<style scoped>\n",
       "    .dataframe tbody tr th:only-of-type {\n",
       "        vertical-align: middle;\n",
       "    }\n",
       "\n",
       "    .dataframe tbody tr th {\n",
       "        vertical-align: top;\n",
       "    }\n",
       "\n",
       "    .dataframe thead th {\n",
       "        text-align: right;\n",
       "    }\n",
       "</style>\n",
       "<table border=\"1\" class=\"dataframe\">\n",
       "  <thead>\n",
       "    <tr style=\"text-align: right;\">\n",
       "      <th></th>\n",
       "      <th>sepal length (cm)</th>\n",
       "      <th>sepal width (cm)</th>\n",
       "      <th>petal length (cm)</th>\n",
       "      <th>petal width (cm)</th>\n",
       "      <th>type</th>\n",
       "    </tr>\n",
       "  </thead>\n",
       "  <tbody>\n",
       "    <tr>\n",
       "      <th>0</th>\n",
       "      <td>5.1</td>\n",
       "      <td>3.5</td>\n",
       "      <td>1.4</td>\n",
       "      <td>0.2</td>\n",
       "      <td>0</td>\n",
       "    </tr>\n",
       "    <tr>\n",
       "      <th>1</th>\n",
       "      <td>4.9</td>\n",
       "      <td>3.0</td>\n",
       "      <td>1.4</td>\n",
       "      <td>0.2</td>\n",
       "      <td>0</td>\n",
       "    </tr>\n",
       "    <tr>\n",
       "      <th>2</th>\n",
       "      <td>4.7</td>\n",
       "      <td>3.2</td>\n",
       "      <td>1.3</td>\n",
       "      <td>0.2</td>\n",
       "      <td>0</td>\n",
       "    </tr>\n",
       "    <tr>\n",
       "      <th>3</th>\n",
       "      <td>4.6</td>\n",
       "      <td>3.1</td>\n",
       "      <td>1.5</td>\n",
       "      <td>0.2</td>\n",
       "      <td>0</td>\n",
       "    </tr>\n",
       "    <tr>\n",
       "      <th>4</th>\n",
       "      <td>5.0</td>\n",
       "      <td>3.6</td>\n",
       "      <td>1.4</td>\n",
       "      <td>0.2</td>\n",
       "      <td>0</td>\n",
       "    </tr>\n",
       "  </tbody>\n",
       "</table>\n",
       "</div>"
      ],
      "text/plain": [
       "   sepal length (cm)  sepal width (cm)  petal length (cm)  petal width (cm)  \\\n",
       "0                5.1               3.5                1.4               0.2   \n",
       "1                4.9               3.0                1.4               0.2   \n",
       "2                4.7               3.2                1.3               0.2   \n",
       "3                4.6               3.1                1.5               0.2   \n",
       "4                5.0               3.6                1.4               0.2   \n",
       "\n",
       "   type  \n",
       "0     0  \n",
       "1     0  \n",
       "2     0  \n",
       "3     0  \n",
       "4     0  "
      ]
     },
     "execution_count": 1,
     "metadata": {},
     "output_type": "execute_result"
    }
   ],
   "source": [
    "# load the iris dataset\n",
    "import pandas as pd\n",
    "import numpy as np\n",
    "from sklearn import datasets\n",
    "from sklearn.model_selection import train_test_split\n",
    "\n",
    "# Load iris dataset\n",
    "iris_data = datasets.load_iris()\n",
    "iris = pd.DataFrame(iris_data.data, columns=iris_data.feature_names)\n",
    "iris['type'] = iris_data.target.astype('int')\n",
    "iris.head()"
   ]
  },
  {
   "cell_type": "code",
   "execution_count": 2,
   "id": "46b965cc",
   "metadata": {},
   "outputs": [],
   "source": [
    "# Use all four features\n",
    "X = iris.iloc[:, 0:4]\n",
    "y = iris['type']"
   ]
  },
  {
   "cell_type": "code",
   "execution_count": 3,
   "id": "30f6c626",
   "metadata": {},
   "outputs": [],
   "source": [
    "#Create a new feature by multiplying sepal length by sepal width and dividing by petal length * petal width. \n",
    "\n",
    "iris['new']=(iris.iloc[:,0]*iris.iloc[:,1])/(iris.iloc[:,2]*iris.iloc[:,3])  "
   ]
  },
  {
   "cell_type": "code",
   "execution_count": 4,
   "id": "baa21846",
   "metadata": {},
   "outputs": [],
   "source": [
    "# Sample 80% of the data for a training set stratifying on ‘type’ \n",
    "\n",
    "from sklearn.model_selection import train_test_split as tts \n",
    "X_train, X_test, y_train, y_test = tts(iris.iloc[:,0:3], iris.iloc[:,4], test_size=0.2, random_state=42,\n",
    "stratify=iris.iloc[:,4]) "
   ]
  },
  {
   "cell_type": "code",
   "execution_count": 5,
   "id": "e1127e8f",
   "metadata": {},
   "outputs": [
    {
     "name": "stdout",
     "output_type": "stream",
     "text": [
      "Index(['sepal length (cm)', 'sepal width (cm)', 'petal length (cm)'], dtype='object')\n"
     ]
    }
   ],
   "source": [
    "print(X_train.columns)"
   ]
  },
  {
   "cell_type": "code",
   "execution_count": 6,
   "id": "2a41768b",
   "metadata": {},
   "outputs": [
    {
     "name": "stdout",
     "output_type": "stream",
     "text": [
      "                 ME  MPE (%)  MAPE (%)     MAE     MSE\n",
      "Estimator 1 -0.6767 -23.7499   24.1859  0.6940  0.6018\n",
      "Estimator 2 -1.5433 -52.1981   52.1981  1.5433  2.5258\n"
     ]
    }
   ],
   "source": [
    "# Re-import necessary libraries after code execution state reset\n",
    "import pandas as pd\n",
    "import numpy as np\n",
    "from sklearn import datasets\n",
    "from sklearn.model_selection import train_test_split\n",
    "\n",
    "# Load iris dataset\n",
    "iris_data = datasets.load_iris()\n",
    "iris = pd.DataFrame(iris_data.data, columns=iris_data.feature_names)\n",
    "iris['type'] = iris_data.target.astype('int')\n",
    "\n",
    "# Use all four features\n",
    "X = iris.iloc[:, 0:4]\n",
    "y = iris['type']\n",
    "\n",
    "# Split into train and test sets\n",
    "X_train, X_test, y_train, y_test = train_test_split(X, y, test_size=0.2, stratify=y, random_state=42)\n",
    "\n",
    "\n",
    "#On the test set, evaluate the following two estimators for sepal width using ME, MPE, MAPE, MAE, and  MSE. \n",
    "#Mean of petal length calculated only on the training data \n",
    "\n",
    "#Mean of sepal length minus petal width calculated only on the training data \n",
    "\n",
    "# Define evaluation function\n",
    "def myf(actual, predicted):\n",
    "    actual = np.array(actual)\n",
    "    predicted = np.array(predicted)\n",
    "    me = np.mean(actual - predicted)\n",
    "    mpe = np.mean((actual - predicted) / actual) * 100\n",
    "    mape = np.mean(np.abs((actual - predicted) / actual)) * 100\n",
    "    mae = np.mean(np.abs(actual - predicted))\n",
    "    mse = np.mean((actual - predicted) ** 2)\n",
    "\n",
    "    return {\n",
    "        \"ME\": round(me, 4),\n",
    "        \"MPE (%)\": round(mpe, 4),\n",
    "        \"MAPE (%)\": round(mape, 4),\n",
    "        \"MAE\": round(mae, 4),\n",
    "        \"MSE\": round(mse, 4)\n",
    "    }\n",
    "\n",
    "# Estimator 1: Mean of petal length (from training data)\n",
    "est1_value = np.mean(X_train['petal length (cm)'])\n",
    "est1 = [est1_value] * len(y_test)\n",
    "\n",
    "# Estimator 2: Mean of (sepal length - petal width) (from training data)\n",
    "est2_value = np.mean(X_train['sepal length (cm)'] - X_train['petal width (cm)'])\n",
    "est2 = [est2_value] * len(y_test)\n",
    "\n",
    "# Evaluate on actual sepal width values\n",
    "metrics_est1 = myf(X_test['sepal width (cm)'], est1)\n",
    "metrics_est2 = myf(X_test['sepal width (cm)'], est2)\n",
    "\n",
    "# Show comparison\n",
    "results_df = pd.DataFrame([metrics_est1, metrics_est2], index=[\"Estimator 1\", \"Estimator 2\"])\n",
    "print(results_df)\n"
   ]
  },
  {
   "cell_type": "code",
   "execution_count": 7,
   "id": "e5cd59db",
   "metadata": {},
   "outputs": [
    {
     "name": "stdout",
     "output_type": "stream",
     "text": [
      "Classifier 1 (25th, 50th percentile thresholds):\n",
      "              precision    recall  f1-score   support\n",
      "\n",
      "           0       0.71      0.50      0.59        10\n",
      "           1       0.33      0.20      0.25        10\n",
      "           2       0.59      1.00      0.74        10\n",
      "\n",
      "    accuracy                           0.57        30\n",
      "   macro avg       0.55      0.57      0.53        30\n",
      "weighted avg       0.55      0.57      0.53        30\n",
      "\n",
      "--------------------------------------------------\n",
      "Classifier 2 (50th, 75th percentile thresholds):\n",
      "              precision    recall  f1-score   support\n",
      "\n",
      "           0       0.69      0.90      0.78        10\n",
      "           1       0.38      0.30      0.33        10\n",
      "           2       0.67      0.60      0.63        10\n",
      "\n",
      "    accuracy                           0.60        30\n",
      "   macro avg       0.58      0.60      0.58        30\n",
      "weighted avg       0.58      0.60      0.58        30\n",
      "\n"
     ]
    }
   ],
   "source": [
    "from numpy import percentile\n",
    "import numpy as np\n",
    "from sklearn.metrics import classification_report as cr\n",
    "\n",
    "# First classifier: thresholds at 25th and 50th percentiles\n",
    "est3 = percentile(X_train['sepal length (cm)'], [25, 50])\n",
    "\n",
    "y_hat = np.zeros(len(y_test))\n",
    "y_hat[X_test['sepal length (cm)'] > est3[0]] = 1\n",
    "y_hat[X_test['sepal length (cm)'] > est3[1]] = 2\n",
    "y_hat = y_hat.astype(int)\n",
    "\n",
    "print(\"Classifier 1 (25th, 50th percentile thresholds):\")\n",
    "print(cr(y_test.astype(int), y_hat))\n",
    "print(\"-\" * 50)\n",
    "\n",
    "# Second classifier: thresholds at 50th and 75th percentiles\n",
    "est4 = percentile(X_train['sepal length (cm)'], [50, 75])\n",
    "\n",
    "y_hat2 = np.zeros(len(y_test))\n",
    "y_hat2[X_test['sepal length (cm)'] > est4[0]] = 1\n",
    "y_hat2[X_test['sepal length (cm)'] > est4[1]] = 2\n",
    "y_hat2 = y_hat2.astype(int)\n",
    "\n",
    "print(\"Classifier 2 (50th, 75th percentile thresholds):\")\n",
    "print(cr(y_test.astype(int), y_hat2))\n"
   ]
  },
  {
   "cell_type": "code",
   "execution_count": null,
   "id": "7be62cca",
   "metadata": {},
   "outputs": [],
   "source": []
  }
 ],
 "metadata": {
  "kernelspec": {
   "display_name": "Python 3 (ipykernel)",
   "language": "python",
   "name": "python3"
  },
  "language_info": {
   "codemirror_mode": {
    "name": "ipython",
    "version": 3
   },
   "file_extension": ".py",
   "mimetype": "text/x-python",
   "name": "python",
   "nbconvert_exporter": "python",
   "pygments_lexer": "ipython3",
   "version": "3.11.5"
  }
 },
 "nbformat": 4,
 "nbformat_minor": 5
}
